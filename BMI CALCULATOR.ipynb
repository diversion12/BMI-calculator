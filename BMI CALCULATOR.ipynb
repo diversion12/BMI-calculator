{
 "cells": [
  {
   "cell_type": "code",
   "execution_count": 14,
   "id": "5c7a9f4f",
   "metadata": {},
   "outputs": [
    {
     "name": "stdout",
     "output_type": "stream",
     "text": [
      "enter your name:Edem\n",
      "enter your weight in pounds:170\n",
      "enter your height in inches:69\n",
      "25.101869355177485\n",
      "Edem, you are overweight. you need to excercise and stop being lazy\n"
     ]
    }
   ],
   "source": [
    "Name = input('enter your name:')\n",
    "\n",
    "\n",
    "Weight = int(input('enter your weight in pounds:'))\n",
    "\n",
    "\n",
    "Height = int(input('enter your height in inches:'))\n",
    "\n",
    "BMI = ( Weight * 703) / (Height * Height)\n",
    "\n",
    "print(BMI)\n",
    "\n",
    "if BMI>0:\n",
    "    if (BMI<18.5):\n",
    "        print(Name +', you are underweight')\n",
    "    elif (BMI<=24.9):\n",
    "            print(Name +', you are normal weight.')\n",
    "    elif (BMI<29.9):\n",
    "            print(Name +', you are overweight. you need to excercise and stop being lazy')\n",
    "    elif (BMI<34.9):\n",
    "            print(Name +', you are obese.')\n",
    "    elif (BMI<39.9):\n",
    "            print(Name +', you are severely obese.')\n",
    "    else:\n",
    "        print(Name +', you are mobidly obese')\n",
    "  \n"
   ]
  },
  {
   "cell_type": "code",
   "execution_count": null,
   "id": "8fd0606f",
   "metadata": {},
   "outputs": [],
   "source": [
    "\n",
    "Under 18.5\tUnderweight\tMinimal\n",
    "18.5 - 24.9\tNormal Weight\tMinimal\n",
    "25 - 29.9\tOverweight\tIncreased\n",
    "30 - 34.9\tObese\tHigh\n",
    "35 - 39.9\tSeverely Obese\tVery High\n",
    "40 and over\tMorbidly Obese\tExtremely High"
   ]
  },
  {
   "cell_type": "code",
   "execution_count": 10,
   "id": "6586715b",
   "metadata": {},
   "outputs": [
    {
     "name": "stdout",
     "output_type": "stream",
     "text": [
      "Edem, you are overweight.\n"
     ]
    }
   ],
   "source": [
    "\n",
    "if BMI>0:\n",
    "    if (BMI<18.5):\n",
    "        print(Name +', you are underweight')\n",
    "    elif (BMI<=24.9):\n",
    "            print(Name +', you are normal weight.')\n",
    "    elif (BMI<29.9):\n",
    "            print(Name +', you are overweight.')\n",
    "    elif (BMI<34.9):\n",
    "            print(Name +', you are obese.')\n",
    "    elif (BMI<39.9):\n",
    "            print(Name +', you are severely obese.')\n",
    "    else:\n",
    "        print(Name +', you are mobidly obese')\n",
    "    else: \n",
    "        print('enter valid inputs')"
   ]
  },
  {
   "cell_type": "code",
   "execution_count": null,
   "id": "e6292db6",
   "metadata": {},
   "outputs": [],
   "source": [
    "#BMI = (weight in pounds x 703) / (height in inches x height in inches)"
   ]
  },
  {
   "cell_type": "code",
   "execution_count": null,
   "id": "b1349baa",
   "metadata": {},
   "outputs": [],
   "source": []
  },
  {
   "cell_type": "code",
   "execution_count": null,
   "id": "5ec25b7b",
   "metadata": {},
   "outputs": [],
   "source": [
    "\n"
   ]
  },
  {
   "cell_type": "code",
   "execution_count": null,
   "id": "ac41d6ed",
   "metadata": {},
   "outputs": [],
   "source": [
    "\n",
    "        "
   ]
  },
  {
   "cell_type": "code",
   "execution_count": null,
   "id": "c14206b7",
   "metadata": {},
   "outputs": [],
   "source": [
    "\n",
    "            "
   ]
  },
  {
   "cell_type": "code",
   "execution_count": null,
   "id": "5602f259",
   "metadata": {},
   "outputs": [],
   "source": []
  },
  {
   "cell_type": "code",
   "execution_count": null,
   "id": "0ac26cdb",
   "metadata": {},
   "outputs": [],
   "source": []
  },
  {
   "cell_type": "code",
   "execution_count": null,
   "id": "6541785a",
   "metadata": {},
   "outputs": [],
   "source": []
  },
  {
   "cell_type": "code",
   "execution_count": null,
   "id": "108745c1",
   "metadata": {},
   "outputs": [],
   "source": []
  }
 ],
 "metadata": {
  "kernelspec": {
   "display_name": "Python 3 (ipykernel)",
   "language": "python",
   "name": "python3"
  },
  "language_info": {
   "codemirror_mode": {
    "name": "ipython",
    "version": 3
   },
   "file_extension": ".py",
   "mimetype": "text/x-python",
   "name": "python",
   "nbconvert_exporter": "python",
   "pygments_lexer": "ipython3",
   "version": "3.9.13"
  }
 },
 "nbformat": 4,
 "nbformat_minor": 5
}
